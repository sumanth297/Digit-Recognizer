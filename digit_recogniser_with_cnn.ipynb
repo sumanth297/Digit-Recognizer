{
 "cells": [
  {
   "cell_type": "code",
   "execution_count": 1,
   "metadata": {},
   "outputs": [
    {
     "name": "stderr",
     "output_type": "stream",
     "text": [
      "Using TensorFlow backend.\n"
     ]
    }
   ],
   "source": [
    "import keras\n",
    "from keras.datasets import mnist\n",
    "from keras.models import Sequential\n",
    "from keras.layers import Dense, Dropout, Flatten\n",
    "from keras.layers import Conv2D, MaxPooling2D\n",
    "import numpy as np"
   ]
  },
  {
   "cell_type": "code",
   "execution_count": 6,
   "metadata": {},
   "outputs": [
    {
     "name": "stdout",
     "output_type": "stream",
     "text": [
      "x_train shape: (60000, 28, 28, 1)\n",
      "60000 train samples\n",
      "10000 test samples\n"
     ]
    }
   ],
   "source": [
    "batch_size = 128\n",
    "num_classes = 10\n",
    "epochs = 14\n",
    "\n",
    "img_rows, img_cols = 28, 28\n",
    "\n",
    "(x_train, y_train), (x_test, y_test) = mnist.load_data()\n",
    "\n",
    "x_train = x_train.reshape(60000,28,28,1)\n",
    "x_test = x_test.reshape(10000,28,28,1)\n",
    "\n",
    "print('x_train shape:', x_train.shape)\n",
    "print(x_train.shape[0], 'train samples')\n",
    "print(x_test.shape[0], 'test samples')"
   ]
  },
  {
   "cell_type": "code",
   "execution_count": 7,
   "metadata": {},
   "outputs": [],
   "source": [
    "y_train = keras.utils.to_categorical(y_train, num_classes)\n",
    "y_test = keras.utils.to_categorical(y_test, num_classes)\n",
    "model = Sequential()\n",
    "model.add(Conv2D(32, kernel_size=(3, 3),\n",
    "                 activation='relu',\n",
    "                 input_shape=(28,28,1)))\n",
    "model.add(MaxPooling2D(pool_size=(2, 2)))\n",
    "model.add(Conv2D(64, (3, 3), activation='relu'))\n",
    "model.add(MaxPooling2D(pool_size=(2, 2)))\n",
    "model.add(Dropout(0.25))\n",
    "model.add(Flatten())\n",
    "model.add(Dense(128, activation='relu'))\n",
    "model.add(Dropout(0.5))\n",
    "model.add(Dense(num_classes, activation='softmax'))"
   ]
  },
  {
   "cell_type": "code",
   "execution_count": 8,
   "metadata": {
    "collapsed": true
   },
   "outputs": [],
   "source": [
    "model.compile(loss=keras.losses.categorical_crossentropy,\n",
    "              optimizer=\"adam\",\n",
    "              metrics=['accuracy'])"
   ]
  },
  {
   "cell_type": "code",
   "execution_count": 9,
   "metadata": {},
   "outputs": [
    {
     "name": "stdout",
     "output_type": "stream",
     "text": [
      "Train on 60000 samples, validate on 10000 samples\n",
      "Epoch 1/14\n",
      "60000/60000 [==============================] - 55s 911us/step - loss: 3.3211 - acc: 0.7231 - val_loss: 0.0857 - val_acc: 0.9735\n",
      "Epoch 2/14\n",
      "60000/60000 [==============================] - 57s 951us/step - loss: 0.1777 - acc: 0.9495 - val_loss: 0.0555 - val_acc: 0.9820\n",
      "Epoch 3/14\n",
      "60000/60000 [==============================] - 53s 890us/step - loss: 0.1249 - acc: 0.9641 - val_loss: 0.0421 - val_acc: 0.9862\n",
      "Epoch 4/14\n",
      "60000/60000 [==============================] - 56s 928us/step - loss: 0.1011 - acc: 0.9718 - val_loss: 0.0378 - val_acc: 0.9892\n",
      "Epoch 5/14\n",
      "60000/60000 [==============================] - 57s 949us/step - loss: 0.0877 - acc: 0.9746 - val_loss: 0.0383 - val_acc: 0.9875\n",
      "Epoch 6/14\n",
      "60000/60000 [==============================] - 61s 1ms/step - loss: 0.0763 - acc: 0.9780 - val_loss: 0.0342 - val_acc: 0.9898\n",
      "Epoch 7/14\n",
      "60000/60000 [==============================] - 67s 1ms/step - loss: 0.0705 - acc: 0.9789 - val_loss: 0.0354 - val_acc: 0.9898\n",
      "Epoch 8/14\n",
      "60000/60000 [==============================] - 53s 877us/step - loss: 0.0673 - acc: 0.9807 - val_loss: 0.0337 - val_acc: 0.9901\n",
      "Epoch 9/14\n",
      "60000/60000 [==============================] - 54s 901us/step - loss: 0.0594 - acc: 0.9819 - val_loss: 0.0327 - val_acc: 0.9894\n",
      "Epoch 10/14\n",
      "60000/60000 [==============================] - 62s 1ms/step - loss: 0.0597 - acc: 0.9824 - val_loss: 0.0307 - val_acc: 0.9915\n",
      "Epoch 11/14\n",
      "60000/60000 [==============================] - 59s 979us/step - loss: 0.0568 - acc: 0.9825 - val_loss: 0.0338 - val_acc: 0.9902\n",
      "Epoch 12/14\n",
      "60000/60000 [==============================] - 70s 1ms/step - loss: 0.0507 - acc: 0.9849 - val_loss: 0.0315 - val_acc: 0.9898\n",
      "Epoch 13/14\n",
      "60000/60000 [==============================] - 69s 1ms/step - loss: 0.0492 - acc: 0.9849 - val_loss: 0.0316 - val_acc: 0.9906\n",
      "Epoch 14/14\n",
      "60000/60000 [==============================] - 60s 993us/step - loss: 0.0502 - acc: 0.9856 - val_loss: 0.0310 - val_acc: 0.9904\n",
      "Test loss: 0.0309565692702\n",
      "Test accuracy: 0.9904\n"
     ]
    }
   ],
   "source": [
    "model.fit(x_train, y_train,\n",
    "          batch_size=batch_size,\n",
    "          epochs=epochs,\n",
    "          verbose=1,\n",
    "          validation_data=(x_test, y_test))\n",
    "score = model.evaluate(x_test, y_test, verbose=0)\n",
    "print('Test loss:', score[0])\n",
    "print('Test accuracy:', score[1])"
   ]
  }
 ],
 "metadata": {
  "kernelspec": {
   "display_name": "Python 3",
   "language": "python",
   "name": "python3"
  },
  "language_info": {
   "codemirror_mode": {
    "name": "ipython",
    "version": 3
   },
   "file_extension": ".py",
   "mimetype": "text/x-python",
   "name": "python",
   "nbconvert_exporter": "python",
   "pygments_lexer": "ipython3",
   "version": "3.6.3"
  }
 },
 "nbformat": 4,
 "nbformat_minor": 2
}
